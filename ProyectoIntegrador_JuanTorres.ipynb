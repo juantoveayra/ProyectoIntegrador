{
 "cells": [
  {
   "cell_type": "markdown",
   "id": "3439f182",
   "metadata": {},
   "source": [
    "# Proyecto Integrador:  American Express - Default Prediction. Predict if a customer will default in the future\n",
    "\n",
    "Por Juan Antonio Torres Veayra"
   ]
  },
  {
   "cell_type": "markdown",
   "id": "de0cb649",
   "metadata": {},
   "source": [
    "# Introducción"
   ]
  },
  {
   "cell_type": "markdown",
   "id": "d9f4120d",
   "metadata": {},
   "source": [
    "El objetivo del proyecto consiste en crear un modelo que identifique y cuantifique la posibilidad de que una persona en una ventana de tiempo de 120 días posterior a la generación de su último estado de cuenta no pague su deuda.\n",
    "\n",
    "Para esto se proporcionada un dataset, donde las variables se encuentran anonimizadas (por lo tanto, no es posible saber que significa cada variable), simplemente se proporciona una guía general donde las variables pueden pertenecer a uno de estos 5 tipos de variables: Delinquency, Spent, Payment, Balance, Risk.\n",
    "\n",
    "Existe muchos trabajos previos al respecto; por ser un área crítica para la operación bancaria y la importancia del correcto otorgamiento de créditos. En mi experiencia la mayoría de los bancos utilizan software de terceros, como, por ejemplo: SAS Credit Scoring y Moody´s Analytics Credit Risk Scoring. \n",
    "\n",
    "Aunque el detalle fino de estos softwares no es público, la mayoría de las soluciones propuestas funcionan del mismo modo: utilizando la metodología y técnicas de Machine Learning. Para ello se construyen diferentes modelos, y se evalúan para seleccionar el ganador. La característica particular de estos modelos es que la distribución de eventos (en este caso default de pago) y no eventos es muy dispareja por lo que se tienen que tener especial cuidado y usar ciertas técnicas para evitar una mala elección de modelo. De manera general, se requiere hacer un pesado para darle mayor prioridad a los eventos y ajustar las métricas de evaluación para que tomen en cuenta esto.\n",
    "\n",
    "El principal motivo por el cuál elegí este proyecto radica en que actualmente trabajo para el sector bancario, y este caso de uso está completamente relacionada con la principal función de los bancos: identificar posibles usuarios y/o clientes que están en riesgo de default, con métodos lo más precisos posibles ya que la aprobación incorrecta de clientes puede causar grandes pérdidas económicas."
   ]
  },
  {
   "cell_type": "markdown",
   "id": "dd47afc0",
   "metadata": {},
   "source": [
    "## Desarrollo"
   ]
  },
  {
   "cell_type": "markdown",
   "id": "707c43df",
   "metadata": {},
   "source": [
    "### Importar librerías para el proyecto"
   ]
  },
  {
   "cell_type": "code",
   "execution_count": 1,
   "id": "d54108a9",
   "metadata": {},
   "outputs": [
    {
     "name": "stdout",
     "output_type": "stream",
     "text": [
      "Requirement already satisfied: kaggle in c:\\users\\juan_\\anaconda3\\lib\\site-packages (1.5.12)\n",
      "Requirement already satisfied: tqdm in c:\\users\\juan_\\anaconda3\\lib\\site-packages (from kaggle) (4.64.0)\n",
      "Requirement already satisfied: six>=1.10 in c:\\users\\juan_\\anaconda3\\lib\\site-packages (from kaggle) (1.16.0)\n",
      "Requirement already satisfied: requests in c:\\users\\juan_\\anaconda3\\lib\\site-packages (from kaggle) (2.28.1)\n",
      "Requirement already satisfied: urllib3 in c:\\users\\juan_\\anaconda3\\lib\\site-packages (from kaggle) (1.26.11)\n",
      "Requirement already satisfied: python-slugify in c:\\users\\juan_\\anaconda3\\lib\\site-packages (from kaggle) (7.0.0)\n",
      "Requirement already satisfied: python-dateutil in c:\\users\\juan_\\anaconda3\\lib\\site-packages (from kaggle) (2.8.2)\n",
      "Requirement already satisfied: certifi in c:\\users\\juan_\\anaconda3\\lib\\site-packages (from kaggle) (2022.6.15)\n",
      "Requirement already satisfied: text-unidecode>=1.3 in c:\\users\\juan_\\anaconda3\\lib\\site-packages (from python-slugify->kaggle) (1.3)\n",
      "Requirement already satisfied: idna<4,>=2.5 in c:\\users\\juan_\\anaconda3\\lib\\site-packages (from requests->kaggle) (2.10)\n",
      "Requirement already satisfied: charset-normalizer<3,>=2 in c:\\users\\juan_\\anaconda3\\lib\\site-packages (from requests->kaggle) (2.0.12)\n",
      "Requirement already satisfied: colorama in c:\\users\\juan_\\anaconda3\\lib\\site-packages (from tqdm->kaggle) (0.4.5)\n"
     ]
    }
   ],
   "source": [
    "!pip install kaggle"
   ]
  },
  {
   "cell_type": "code",
   "execution_count": 2,
   "id": "ad758b17",
   "metadata": {
    "execution": {
     "iopub.execute_input": "2022-10-09T04:34:50.328910Z",
     "iopub.status.busy": "2022-10-09T04:34:50.328511Z",
     "iopub.status.idle": "2022-10-09T04:34:51.979524Z",
     "shell.execute_reply": "2022-10-09T04:34:51.978410Z"
    },
    "papermill": {
     "duration": 1.663852,
     "end_time": "2022-10-09T04:34:51.982572",
     "exception": false,
     "start_time": "2022-10-09T04:34:50.318720",
     "status": "completed"
    },
    "tags": []
   },
   "outputs": [],
   "source": [
    "import numpy as np # linear algebra\n",
    "import pandas as pd # data processing\n",
    "import os\n",
    "from sklearn.linear_model import LogisticRegression \n",
    "from sklearn import tree\n",
    "from sklearn.model_selection import train_test_split\n",
    "from sklearn.metrics import mean_absolute_error\n",
    "from sklearn.impute import SimpleImputer\n",
    "from sklearn.decomposition import PCA\n",
    "from sklearn.preprocessing import StandardScaler\n",
    "from sklearn.metrics import accuracy_score\n",
    "from sklearn.feature_selection import mutual_info_classif\n",
    "from sklearn.naive_bayes import GaussianNB\n",
    "import random\n",
    "\n",
    "# Setear los datos de conexión a la API pública de Kaggle\n",
    "os.environ['KAGGLE_USERNAME'] = 'juantoveayra'\n",
    "os.environ['KAGGLE_KEY'] = 'XXXXX'\n",
    "from kaggle.api.kaggle_api_extended import KaggleApi\n",
    "\n",
    "# Ignorar warnings\n",
    "import warnings\n",
    "from sklearn.exceptions import DataConversionWarning\n",
    "warnings.filterwarnings(action='ignore', category=DataConversionWarning)\n",
    "warnings.simplefilter(action='ignore', category=FutureWarning)\n",
    "\n",
    "# Graficar\n",
    "import matplotlib.pyplot as plt\n",
    "import seaborn as sns\n",
    "sns.set_theme(style=\"whitegrid\")"
   ]
  },
  {
   "cell_type": "code",
   "execution_count": 34,
   "id": "e84d5acc",
   "metadata": {},
   "outputs": [],
   "source": [
    "warnings.simplefilter(action='ignore')"
   ]
  },
  {
   "cell_type": "markdown",
   "id": "ea000f69",
   "metadata": {},
   "source": [
    "### Importar datos desde Kaggle"
   ]
  },
  {
   "cell_type": "markdown",
   "id": "a273720e",
   "metadata": {},
   "source": [
    "Autenticar la conexión con Kaggle"
   ]
  },
  {
   "cell_type": "code",
   "execution_count": 3,
   "id": "c481596e",
   "metadata": {},
   "outputs": [],
   "source": [
    "api = KaggleApi()\n",
    "api.authenticate()"
   ]
  },
  {
   "cell_type": "markdown",
   "id": "a9d81034",
   "metadata": {},
   "source": [
    "Descargar los dataset de la competencia"
   ]
  },
  {
   "cell_type": "code",
   "execution_count": 4,
   "id": "f5adc3df",
   "metadata": {},
   "outputs": [
    {
     "name": "stdout",
     "output_type": "stream",
     "text": [
      "train_labels.csv.zip: Skipping, found more recently modified local copy (use --force to force download)\n",
      "train_data.csv.zip: Skipping, found more recently modified local copy (use --force to force download)\n"
     ]
    }
   ],
   "source": [
    "# 1. Dataset que contiene las etiquetas/labels de los datos de entrenamiento\n",
    "api.competition_download_file(\"amex-default-prediction\", \"train_labels.csv\", path=\"./datasets\")\n",
    "# 2. Dataset que contiene los datos de entrenamiento\n",
    "api.competition_download_file(\"amex-default-prediction\", \"train_data.csv\", path=\"./datasets\")"
   ]
  },
  {
   "cell_type": "markdown",
   "id": "d131766a",
   "metadata": {},
   "source": [
    "### Cargar datos"
   ]
  },
  {
   "cell_type": "markdown",
   "id": "667b8076",
   "metadata": {},
   "source": [
    "Dado que que el dataset de entrenamiento es demasiado grande para cargarlo (>16GB); se aplicará una técnica de muestreo aleatorio con las siguientes consideraron:\n",
    "* La muestra se realizará sobre CustomerID distintos, esto es para conservar el historial completo de las transacciones de los clientes que se seleccionen durante el proceso de muestreo.\n",
    "* Se seleccionará el 10% de los clientes.\n",
    "* Se realizará un muestreo aleatorio."
   ]
  },
  {
   "cell_type": "markdown",
   "id": "3d8b8660",
   "metadata": {},
   "source": [
    "#### Muestreo aleatorio de Customer_IDs"
   ]
  },
  {
   "cell_type": "markdown",
   "id": "175684d1",
   "metadata": {},
   "source": [
    "Leer solamente Customer_IDs"
   ]
  },
  {
   "cell_type": "code",
   "execution_count": 5,
   "id": "4d2985e6",
   "metadata": {},
   "outputs": [
    {
     "name": "stdout",
     "output_type": "stream",
     "text": [
      "Total de registros en el dataset(CustomerID únicos): 458913\n"
     ]
    }
   ],
   "source": [
    "customerIDs = pd.read_csv( './datasets/train_labels.csv.zip',usecols=[0])\n",
    "print(\"Total de registros en el dataset(CustomerID únicos):\", len(customerIDs))"
   ]
  },
  {
   "cell_type": "markdown",
   "id": "f10a8513",
   "metadata": {},
   "source": [
    "Obtener la muestra de Customer_ID"
   ]
  },
  {
   "cell_type": "code",
   "execution_count": 6,
   "id": "1339a05c",
   "metadata": {},
   "outputs": [
    {
     "name": "stdout",
     "output_type": "stream",
     "text": [
      "Tamaño de la muestra de customerIDs: 45891\n"
     ]
    }
   ],
   "source": [
    "customerIDs_sample = customerIDs.sample(frac=0.1, random_state=123)\n",
    "print(\"Tamaño de la muestra de customerIDs:\", len(customerIDs_sample))"
   ]
  },
  {
   "cell_type": "markdown",
   "id": "81544bc5",
   "metadata": {},
   "source": [
    "#### Leer datos considerando el muestreo aleatorio"
   ]
  },
  {
   "cell_type": "markdown",
   "id": "d9ce4ee8",
   "metadata": {},
   "source": [
    "##### Leer \"y\" (etiquetas) y Filtrar por muestra de Customer_IDs"
   ]
  },
  {
   "cell_type": "code",
   "execution_count": 7,
   "id": "ebdaf119",
   "metadata": {},
   "outputs": [
    {
     "name": "stdout",
     "output_type": "stream",
     "text": [
      "Tamaño de y: 45891\n"
     ]
    }
   ],
   "source": [
    "# Leer labels\n",
    "y = pd.read_csv('./datasets/train_labels.csv.zip')\n",
    "y = y.merge(customerIDs_sample)\n",
    "print(\"Tamaño de y:\", len(y))"
   ]
  },
  {
   "cell_type": "markdown",
   "id": "0d8872b7",
   "metadata": {},
   "source": [
    "##### Leer \"X\" (datos) y Filtrar por muestra de Customer_IDs"
   ]
  },
  {
   "cell_type": "code",
   "execution_count": 8,
   "id": "925bd494",
   "metadata": {},
   "outputs": [
    {
     "name": "stdout",
     "output_type": "stream",
     "text": [
      "Tamaño de X: 553468\n"
     ]
    }
   ],
   "source": [
    "X = pd.DataFrame()\n",
    "\n",
    "# Filtrar por muestra de Customer_IDs\n",
    "def filtarCustomerID(chuck, X=X):\n",
    "    return customerIDs_sample.merge(chunk)\n",
    "\n",
    "# Leer datos iterando en bloques de 100,000\n",
    "with pd.read_csv('./datasets/train_data.csv.zip', chunksize=100000) as reader:\n",
    "    for chunk in reader:\n",
    "        X = X.append(filtarCustomerID(chunk))\n",
    "        \n",
    "print(\"Tamaño de X:\", len(X))"
   ]
  },
  {
   "cell_type": "markdown",
   "id": "2d57cbfe",
   "metadata": {},
   "source": [
    "### Preparación de los dataframes X, y"
   ]
  },
  {
   "cell_type": "markdown",
   "id": "59acccde",
   "metadata": {},
   "source": [
    "#### Convertir fecha al formato correcto"
   ]
  },
  {
   "cell_type": "code",
   "execution_count": 9,
   "id": "faa5aa55",
   "metadata": {},
   "outputs": [],
   "source": [
    "X['fecha'] = pd.to_datetime(X['S_2'], format='%Y-%m-%d')\n",
    "X = X.drop(columns=['S_2'])"
   ]
  },
  {
   "cell_type": "markdown",
   "id": "8561036b",
   "metadata": {},
   "source": [
    "Visualización inicial de los datos:"
   ]
  },
  {
   "cell_type": "code",
   "execution_count": 10,
   "id": "2c0a48bf",
   "metadata": {},
   "outputs": [
    {
     "data": {
      "text/html": [
       "<div>\n",
       "<style scoped>\n",
       "    .dataframe tbody tr th:only-of-type {\n",
       "        vertical-align: middle;\n",
       "    }\n",
       "\n",
       "    .dataframe tbody tr th {\n",
       "        vertical-align: top;\n",
       "    }\n",
       "\n",
       "    .dataframe thead th {\n",
       "        text-align: right;\n",
       "    }\n",
       "</style>\n",
       "<table border=\"1\" class=\"dataframe\">\n",
       "  <thead>\n",
       "    <tr style=\"text-align: right;\">\n",
       "      <th></th>\n",
       "      <th>customer_ID</th>\n",
       "      <th>P_2</th>\n",
       "      <th>D_39</th>\n",
       "      <th>B_1</th>\n",
       "      <th>B_2</th>\n",
       "      <th>R_1</th>\n",
       "      <th>S_3</th>\n",
       "      <th>D_41</th>\n",
       "      <th>B_3</th>\n",
       "      <th>D_42</th>\n",
       "      <th>...</th>\n",
       "      <th>D_137</th>\n",
       "      <th>D_138</th>\n",
       "      <th>D_139</th>\n",
       "      <th>D_140</th>\n",
       "      <th>D_141</th>\n",
       "      <th>D_142</th>\n",
       "      <th>D_143</th>\n",
       "      <th>D_144</th>\n",
       "      <th>D_145</th>\n",
       "      <th>fecha</th>\n",
       "    </tr>\n",
       "  </thead>\n",
       "  <tbody>\n",
       "    <tr>\n",
       "      <th>0</th>\n",
       "      <td>03a0b3b143501f4be87af0abb525740203bd144d3b76fd...</td>\n",
       "      <td>0.788015</td>\n",
       "      <td>0.008339</td>\n",
       "      <td>0.008258</td>\n",
       "      <td>1.005068</td>\n",
       "      <td>0.005189</td>\n",
       "      <td>0.177269</td>\n",
       "      <td>0.007325</td>\n",
       "      <td>0.011405</td>\n",
       "      <td>NaN</td>\n",
       "      <td>...</td>\n",
       "      <td>NaN</td>\n",
       "      <td>NaN</td>\n",
       "      <td>1.003751</td>\n",
       "      <td>0.007293</td>\n",
       "      <td>0.904780</td>\n",
       "      <td>0.350297</td>\n",
       "      <td>1.004162</td>\n",
       "      <td>0.006111</td>\n",
       "      <td>0.730804</td>\n",
       "      <td>2017-03-12</td>\n",
       "    </tr>\n",
       "    <tr>\n",
       "      <th>1</th>\n",
       "      <td>03a0b3b143501f4be87af0abb525740203bd144d3b76fd...</td>\n",
       "      <td>0.820688</td>\n",
       "      <td>0.508056</td>\n",
       "      <td>0.020703</td>\n",
       "      <td>1.009064</td>\n",
       "      <td>0.008859</td>\n",
       "      <td>0.183415</td>\n",
       "      <td>0.000462</td>\n",
       "      <td>0.006284</td>\n",
       "      <td>NaN</td>\n",
       "      <td>...</td>\n",
       "      <td>NaN</td>\n",
       "      <td>NaN</td>\n",
       "      <td>1.004928</td>\n",
       "      <td>0.001155</td>\n",
       "      <td>0.910505</td>\n",
       "      <td>0.356847</td>\n",
       "      <td>1.007794</td>\n",
       "      <td>0.002913</td>\n",
       "      <td>0.734160</td>\n",
       "      <td>2017-04-01</td>\n",
       "    </tr>\n",
       "    <tr>\n",
       "      <th>2</th>\n",
       "      <td>03a0b3b143501f4be87af0abb525740203bd144d3b76fd...</td>\n",
       "      <td>0.820640</td>\n",
       "      <td>0.149097</td>\n",
       "      <td>0.050707</td>\n",
       "      <td>1.008181</td>\n",
       "      <td>0.005423</td>\n",
       "      <td>0.246375</td>\n",
       "      <td>0.001700</td>\n",
       "      <td>0.003964</td>\n",
       "      <td>NaN</td>\n",
       "      <td>...</td>\n",
       "      <td>NaN</td>\n",
       "      <td>NaN</td>\n",
       "      <td>1.005148</td>\n",
       "      <td>0.009973</td>\n",
       "      <td>0.909028</td>\n",
       "      <td>0.367084</td>\n",
       "      <td>1.003305</td>\n",
       "      <td>0.001415</td>\n",
       "      <td>0.736878</td>\n",
       "      <td>2017-05-20</td>\n",
       "    </tr>\n",
       "    <tr>\n",
       "      <th>3</th>\n",
       "      <td>03a0b3b143501f4be87af0abb525740203bd144d3b76fd...</td>\n",
       "      <td>0.768074</td>\n",
       "      <td>0.272524</td>\n",
       "      <td>0.085200</td>\n",
       "      <td>1.000760</td>\n",
       "      <td>0.007227</td>\n",
       "      <td>0.237148</td>\n",
       "      <td>0.004834</td>\n",
       "      <td>0.002805</td>\n",
       "      <td>NaN</td>\n",
       "      <td>...</td>\n",
       "      <td>NaN</td>\n",
       "      <td>NaN</td>\n",
       "      <td>1.002346</td>\n",
       "      <td>0.001826</td>\n",
       "      <td>0.909474</td>\n",
       "      <td>0.368598</td>\n",
       "      <td>1.007744</td>\n",
       "      <td>0.003986</td>\n",
       "      <td>0.727907</td>\n",
       "      <td>2017-06-23</td>\n",
       "    </tr>\n",
       "    <tr>\n",
       "      <th>4</th>\n",
       "      <td>03a0b3b143501f4be87af0abb525740203bd144d3b76fd...</td>\n",
       "      <td>0.766487</td>\n",
       "      <td>0.035309</td>\n",
       "      <td>0.030867</td>\n",
       "      <td>1.005628</td>\n",
       "      <td>0.006025</td>\n",
       "      <td>0.262776</td>\n",
       "      <td>0.006344</td>\n",
       "      <td>0.000273</td>\n",
       "      <td>NaN</td>\n",
       "      <td>...</td>\n",
       "      <td>NaN</td>\n",
       "      <td>NaN</td>\n",
       "      <td>1.007555</td>\n",
       "      <td>0.004746</td>\n",
       "      <td>0.910825</td>\n",
       "      <td>0.366456</td>\n",
       "      <td>1.005809</td>\n",
       "      <td>0.008078</td>\n",
       "      <td>0.734059</td>\n",
       "      <td>2017-07-15</td>\n",
       "    </tr>\n",
       "  </tbody>\n",
       "</table>\n",
       "<p>5 rows × 190 columns</p>\n",
       "</div>"
      ],
      "text/plain": [
       "                                         customer_ID       P_2      D_39  \\\n",
       "0  03a0b3b143501f4be87af0abb525740203bd144d3b76fd...  0.788015  0.008339   \n",
       "1  03a0b3b143501f4be87af0abb525740203bd144d3b76fd...  0.820688  0.508056   \n",
       "2  03a0b3b143501f4be87af0abb525740203bd144d3b76fd...  0.820640  0.149097   \n",
       "3  03a0b3b143501f4be87af0abb525740203bd144d3b76fd...  0.768074  0.272524   \n",
       "4  03a0b3b143501f4be87af0abb525740203bd144d3b76fd...  0.766487  0.035309   \n",
       "\n",
       "        B_1       B_2       R_1       S_3      D_41       B_3  D_42  ...  \\\n",
       "0  0.008258  1.005068  0.005189  0.177269  0.007325  0.011405   NaN  ...   \n",
       "1  0.020703  1.009064  0.008859  0.183415  0.000462  0.006284   NaN  ...   \n",
       "2  0.050707  1.008181  0.005423  0.246375  0.001700  0.003964   NaN  ...   \n",
       "3  0.085200  1.000760  0.007227  0.237148  0.004834  0.002805   NaN  ...   \n",
       "4  0.030867  1.005628  0.006025  0.262776  0.006344  0.000273   NaN  ...   \n",
       "\n",
       "   D_137  D_138     D_139     D_140     D_141     D_142     D_143     D_144  \\\n",
       "0    NaN    NaN  1.003751  0.007293  0.904780  0.350297  1.004162  0.006111   \n",
       "1    NaN    NaN  1.004928  0.001155  0.910505  0.356847  1.007794  0.002913   \n",
       "2    NaN    NaN  1.005148  0.009973  0.909028  0.367084  1.003305  0.001415   \n",
       "3    NaN    NaN  1.002346  0.001826  0.909474  0.368598  1.007744  0.003986   \n",
       "4    NaN    NaN  1.007555  0.004746  0.910825  0.366456  1.005809  0.008078   \n",
       "\n",
       "      D_145      fecha  \n",
       "0  0.730804 2017-03-12  \n",
       "1  0.734160 2017-04-01  \n",
       "2  0.736878 2017-05-20  \n",
       "3  0.727907 2017-06-23  \n",
       "4  0.734059 2017-07-15  \n",
       "\n",
       "[5 rows x 190 columns]"
      ]
     },
     "execution_count": 10,
     "metadata": {},
     "output_type": "execute_result"
    }
   ],
   "source": [
    "X.head()"
   ]
  },
  {
   "cell_type": "markdown",
   "id": "6a4304c2",
   "metadata": {},
   "source": [
    "#### Crear un registro único por cliente\n",
    "Dado que el dataset contiene datos históricos con más de 1 registro por cliente, se creará un dataset de entrenamiento alterno con un registro único por cliente homologando en un solo registro la información de todos los meses. Esto se realizará mediante la transformación de las variables que se encuentran de manera vertical a horizontal. Esto será posteriormente de utilidad para una mejor preparación de los datos y construcción de modelos con técnicas como: imputación de valores vacios, evaluación de modelo que mejor se ajuste a los datos y reducción de variables."
   ]
  },
  {
   "cell_type": "markdown",
   "id": "f82e95f9",
   "metadata": {},
   "source": [
    "Rankear los meses:"
   ]
  },
  {
   "cell_type": "code",
   "execution_count": 11,
   "id": "40deb628",
   "metadata": {},
   "outputs": [],
   "source": [
    "X = X.sort_values(by=['customer_ID','fecha'])\n",
    "X['rankFecha'] = X.groupby(['customer_ID']).fecha.rank(method='first', ascending=False)"
   ]
  },
  {
   "cell_type": "markdown",
   "id": "633c1419",
   "metadata": {},
   "source": [
    "#### Definición de índices de dataframes\n",
    "Asignar los índices a cada dataframe para facilitar y optimizar el posterior procesamiento"
   ]
  },
  {
   "cell_type": "code",
   "execution_count": 12,
   "id": "bff02491",
   "metadata": {},
   "outputs": [],
   "source": [
    "X = X.set_index([\"customer_ID\"])\n",
    "y = y.set_index([\"customer_ID\"])"
   ]
  },
  {
   "cell_type": "markdown",
   "id": "00c6cf3d",
   "metadata": {},
   "source": [
    "Iterar para los 13 meses de históricos con los que se cuenta:"
   ]
  },
  {
   "cell_type": "code",
   "execution_count": 13,
   "id": "0a9a5634",
   "metadata": {},
   "outputs": [],
   "source": [
    "X_H = X[X.rankFecha == 1].drop(columns=['fecha', 'rankFecha'])\n",
    "\n",
    "for i in range(2,14):\n",
    "    X_H = X_H.join(X[X.rankFecha == i].drop(columns=['fecha', 'rankFecha']), rsuffix=\"_\"+str(i))"
   ]
  },
  {
   "cell_type": "markdown",
   "id": "46497202",
   "metadata": {},
   "source": [
    "Validación de la correcta aplicación del proceso: número de registros total coincide con Customer_ID distintos"
   ]
  },
  {
   "cell_type": "code",
   "execution_count": 14,
   "id": "6f29b624",
   "metadata": {},
   "outputs": [
    {
     "name": "stdout",
     "output_type": "stream",
     "text": [
      "Total de registros: 45891 vs Customer_ID distintos: 45891\n",
      "Tamaño original del dataset: 553468\n",
      "Nuevo tamaño: 45891\n"
     ]
    }
   ],
   "source": [
    "print(\"Total de registros:\", len(X_H), \"vs Customer_ID distintos:\", len(X.index.drop_duplicates()) )\n",
    "print(\"Tamaño original del dataset:\", len(X))\n",
    "print(\"Nuevo tamaño:\", len(X_H))"
   ]
  },
  {
   "cell_type": "markdown",
   "id": "22966235",
   "metadata": {},
   "source": [
    "Asignar el valor de regreso al dataframe X:"
   ]
  },
  {
   "cell_type": "code",
   "execution_count": 15,
   "id": "d34c407a",
   "metadata": {},
   "outputs": [],
   "source": [
    "X_original = X.copy()\n",
    "X = X_H"
   ]
  },
  {
   "cell_type": "markdown",
   "id": "ac136da7",
   "metadata": {},
   "source": [
    "##### Ordenar y para que coincida con el mismo orden de X!!"
   ]
  },
  {
   "cell_type": "code",
   "execution_count": 16,
   "id": "6ecb0e31",
   "metadata": {},
   "outputs": [],
   "source": [
    "X = X.sort_index()\n",
    "y = y.sort_index()"
   ]
  },
  {
   "cell_type": "markdown",
   "id": "a0a818e5",
   "metadata": {},
   "source": [
    "#### Selección de columnas\n",
    "Revisar los tipos de columnas que tiene el dataset."
   ]
  },
  {
   "cell_type": "code",
   "execution_count": 17,
   "id": "304e928d",
   "metadata": {},
   "outputs": [
    {
     "data": {
      "text/plain": [
       "tipo   \n",
       "float64    2417\n",
       "object       26\n",
       "int64         1\n",
       "dtype: int64"
      ]
     },
     "execution_count": 17,
     "metadata": {},
     "output_type": "execute_result"
    }
   ],
   "source": [
    "tiposDato = pd.DataFrame(X.dtypes, columns=[\"tipo\"])\n",
    "tiposDato.value_counts()"
   ]
  },
  {
   "cell_type": "code",
   "execution_count": 18,
   "id": "a478f1a8",
   "metadata": {
    "scrolled": false
   },
   "outputs": [
    {
     "data": {
      "text/html": [
       "<div>\n",
       "<style scoped>\n",
       "    .dataframe tbody tr th:only-of-type {\n",
       "        vertical-align: middle;\n",
       "    }\n",
       "\n",
       "    .dataframe tbody tr th {\n",
       "        vertical-align: top;\n",
       "    }\n",
       "\n",
       "    .dataframe thead th {\n",
       "        text-align: right;\n",
       "    }\n",
       "</style>\n",
       "<table border=\"1\" class=\"dataframe\">\n",
       "  <thead>\n",
       "    <tr style=\"text-align: right;\">\n",
       "      <th></th>\n",
       "      <th>tipo</th>\n",
       "    </tr>\n",
       "  </thead>\n",
       "  <tbody>\n",
       "    <tr>\n",
       "      <th>D_63</th>\n",
       "      <td>object</td>\n",
       "    </tr>\n",
       "    <tr>\n",
       "      <th>D_64</th>\n",
       "      <td>object</td>\n",
       "    </tr>\n",
       "    <tr>\n",
       "      <th>D_63_2</th>\n",
       "      <td>object</td>\n",
       "    </tr>\n",
       "    <tr>\n",
       "      <th>D_64_2</th>\n",
       "      <td>object</td>\n",
       "    </tr>\n",
       "    <tr>\n",
       "      <th>D_63_3</th>\n",
       "      <td>object</td>\n",
       "    </tr>\n",
       "    <tr>\n",
       "      <th>D_64_3</th>\n",
       "      <td>object</td>\n",
       "    </tr>\n",
       "    <tr>\n",
       "      <th>D_63_4</th>\n",
       "      <td>object</td>\n",
       "    </tr>\n",
       "    <tr>\n",
       "      <th>D_64_4</th>\n",
       "      <td>object</td>\n",
       "    </tr>\n",
       "    <tr>\n",
       "      <th>D_63_5</th>\n",
       "      <td>object</td>\n",
       "    </tr>\n",
       "    <tr>\n",
       "      <th>D_64_5</th>\n",
       "      <td>object</td>\n",
       "    </tr>\n",
       "    <tr>\n",
       "      <th>D_63_6</th>\n",
       "      <td>object</td>\n",
       "    </tr>\n",
       "    <tr>\n",
       "      <th>D_64_6</th>\n",
       "      <td>object</td>\n",
       "    </tr>\n",
       "    <tr>\n",
       "      <th>D_63_7</th>\n",
       "      <td>object</td>\n",
       "    </tr>\n",
       "    <tr>\n",
       "      <th>D_64_7</th>\n",
       "      <td>object</td>\n",
       "    </tr>\n",
       "    <tr>\n",
       "      <th>D_63_8</th>\n",
       "      <td>object</td>\n",
       "    </tr>\n",
       "    <tr>\n",
       "      <th>D_64_8</th>\n",
       "      <td>object</td>\n",
       "    </tr>\n",
       "    <tr>\n",
       "      <th>D_63_9</th>\n",
       "      <td>object</td>\n",
       "    </tr>\n",
       "    <tr>\n",
       "      <th>D_64_9</th>\n",
       "      <td>object</td>\n",
       "    </tr>\n",
       "    <tr>\n",
       "      <th>D_63_10</th>\n",
       "      <td>object</td>\n",
       "    </tr>\n",
       "    <tr>\n",
       "      <th>D_64_10</th>\n",
       "      <td>object</td>\n",
       "    </tr>\n",
       "    <tr>\n",
       "      <th>D_63_11</th>\n",
       "      <td>object</td>\n",
       "    </tr>\n",
       "    <tr>\n",
       "      <th>D_64_11</th>\n",
       "      <td>object</td>\n",
       "    </tr>\n",
       "    <tr>\n",
       "      <th>D_63_12</th>\n",
       "      <td>object</td>\n",
       "    </tr>\n",
       "    <tr>\n",
       "      <th>D_64_12</th>\n",
       "      <td>object</td>\n",
       "    </tr>\n",
       "    <tr>\n",
       "      <th>D_63_13</th>\n",
       "      <td>object</td>\n",
       "    </tr>\n",
       "    <tr>\n",
       "      <th>D_64_13</th>\n",
       "      <td>object</td>\n",
       "    </tr>\n",
       "  </tbody>\n",
       "</table>\n",
       "</div>"
      ],
      "text/plain": [
       "           tipo\n",
       "D_63     object\n",
       "D_64     object\n",
       "D_63_2   object\n",
       "D_64_2   object\n",
       "D_63_3   object\n",
       "D_64_3   object\n",
       "D_63_4   object\n",
       "D_64_4   object\n",
       "D_63_5   object\n",
       "D_64_5   object\n",
       "D_63_6   object\n",
       "D_64_6   object\n",
       "D_63_7   object\n",
       "D_64_7   object\n",
       "D_63_8   object\n",
       "D_64_8   object\n",
       "D_63_9   object\n",
       "D_64_9   object\n",
       "D_63_10  object\n",
       "D_64_10  object\n",
       "D_63_11  object\n",
       "D_64_11  object\n",
       "D_63_12  object\n",
       "D_64_12  object\n",
       "D_63_13  object\n",
       "D_64_13  object"
      ]
     },
     "execution_count": 18,
     "metadata": {},
     "output_type": "execute_result"
    }
   ],
   "source": [
    "tiposDato[tiposDato.tipo == 'object']"
   ]
  },
  {
   "cell_type": "markdown",
   "id": "3a2bc7c8",
   "metadata": {},
   "source": [
    "Dado que solo existen 2 variables categoricas (D_63 y D_64), de momento se dejaran fuera y el esfuerzo principal se hará sobre las variables numéricas"
   ]
  },
  {
   "cell_type": "code",
   "execution_count": 19,
   "id": "b31ea99f",
   "metadata": {},
   "outputs": [],
   "source": [
    "X = X.drop(columns = list(tiposDato[tiposDato.tipo == 'object'].index))"
   ]
  },
  {
   "cell_type": "markdown",
   "id": "b71726a0",
   "metadata": {},
   "source": [
    "### Visualización de los datos"
   ]
  },
  {
   "cell_type": "markdown",
   "id": "3b4defcc",
   "metadata": {},
   "source": [
    "##### Gráfica de Eventos vs No Evento\n",
    "Evento - Default de usuario (y=1)\n",
    "No Evento - No Default de usuario (y=0)"
   ]
  },
  {
   "cell_type": "code",
   "execution_count": 20,
   "id": "96433be3",
   "metadata": {
    "execution": {
     "iopub.execute_input": "2022-10-09T04:35:00.063593Z",
     "iopub.status.busy": "2022-10-09T04:35:00.063157Z",
     "iopub.status.idle": "2022-10-09T04:35:00.081890Z",
     "shell.execute_reply": "2022-10-09T04:35:00.080691Z"
    },
    "papermill": {
     "duration": 0.031098,
     "end_time": "2022-10-09T04:35:00.084543",
     "exception": false,
     "start_time": "2022-10-09T04:35:00.053445",
     "status": "completed"
    },
    "tags": []
   },
   "outputs": [
    {
     "data": {
      "image/png": "[encoded data removed]",
      "text/plain": [
       "<Figure size 432x288 with 1 Axes>"
      ]
     },
     "metadata": {},
     "output_type": "display_data"
    }
   ],
   "source": [
    "ax = sns.countplot(x=y[\"target\"])\n",
    "ax.bar_label(ax.containers[0], size = 14)\n",
    "plt.show()"
   ]
  },
  {
   "cell_type": "markdown",
   "id": "612c1593",
   "metadata": {},
   "source": [
    "##### Gráfica de valores nulos"
   ]
  },
  {
   "cell_type": "markdown",
   "id": "8d395c1a",
   "metadata": {},
   "source": [
    "Cálculo de porcentaje de nulos"
   ]
  },
  {
   "cell_type": "code",
   "execution_count": 21,
   "id": "4a8ce96d",
   "metadata": {
    "execution": {
     "iopub.execute_input": "2022-10-09T04:35:00.192753Z",
     "iopub.status.busy": "2022-10-09T04:35:00.191454Z",
     "iopub.status.idle": "2022-10-09T04:35:01.563868Z",
     "shell.execute_reply": "2022-10-09T04:35:01.562374Z"
    },
    "papermill": {
     "duration": 1.385764,
     "end_time": "2022-10-09T04:35:01.566658",
     "exception": false,
     "start_time": "2022-10-09T04:35:00.180894",
     "status": "completed"
    },
    "tags": []
   },
   "outputs": [],
   "source": [
    "porciento_nulos = pd.DataFrame({'columna': X.columns, 'p_null': X.isnull().sum() * 100 / len(X)})\\\n",
    "    .sort_values(by='p_null', ascending = False)"
   ]
  },
  {
   "cell_type": "markdown",
   "id": "de947efa",
   "metadata": {},
   "source": [
    "Dibujar gráfica"
   ]
  },
  {
   "cell_type": "code",
   "execution_count": 22,
   "id": "d67c1539",
   "metadata": {},
   "outputs": [
    {
     "data": {
      "image/png": "[encoded data removed]",
      "text/plain": [
       "<Figure size 1152x432 with 1 Axes>"
      ]
     },
     "metadata": {},
     "output_type": "display_data"
    }
   ],
   "source": [
    "plt.figure(figsize=(16,6))\n",
    "sns.barplot(data=porciento_nulos[porciento_nulos.p_null > 90], x=\"columna\", y=\"p_null\")\n",
    "plt.xticks(rotation=90, size= 6)\n",
    "plt.show()"
   ]
  },
  {
   "cell_type": "markdown",
   "id": "76830451",
   "metadata": {},
   "source": [
    "Existen 231 variables con un % de valores nulos mayor a 90%.\n",
    "Se removeran estan variables de dataframe:"
   ]
  },
  {
   "cell_type": "code",
   "execution_count": 23,
   "id": "7a17b6f3",
   "metadata": {},
   "outputs": [],
   "source": [
    "X = X.drop(columns = list(porciento_nulos[porciento_nulos.p_null > 90].columna))"
   ]
  },
  {
   "cell_type": "markdown",
   "id": "0a9df0c9",
   "metadata": {},
   "source": [
    "##### Gráfica de antigüedad\n",
    "Para casos de aplicación de Machine Learning como Default (dejar de pagar) o Churn (abandono de la compañia) por lo general una variable muy importante es la antiguedad. Por lo que se procederá a realizar un análisis de la misma."
   ]
  },
  {
   "cell_type": "code",
   "execution_count": 24,
   "id": "1c914dc1",
   "metadata": {},
   "outputs": [],
   "source": [
    "antiguedadClientes = pd.DataFrame(X_original.reset_index().groupby('customer_ID').fecha.count())"
   ]
  },
  {
   "cell_type": "code",
   "execution_count": 25,
   "id": "a909d198",
   "metadata": {
    "scrolled": false
   },
   "outputs": [
    {
     "data": {
      "image/png": "[encoded data removed]",
      "text/plain": [
       "<Figure size 720x288 with 1 Axes>"
      ]
     },
     "metadata": {},
     "output_type": "display_data"
    }
   ],
   "source": [
    "plt.figure(figsize=(10,4))\n",
    "ax = sns.countplot(x=antiguedadClientes[\"fecha\"], order = antiguedadClientes[\"fecha\"].value_counts().index.sort_values())\n",
    "ax.bar_label(ax.containers[0], size = 14)\n",
    "plt.title('Gráfica de antigüedad')\n",
    "plt.show()"
   ]
  },
  {
   "cell_type": "markdown",
   "id": "e5512a0d",
   "metadata": {},
   "source": [
    "Conclusiones: resulta interesante la gráfica, al verla se puede suponer que los clientes con menos de 13 meses de histórico o son nuevo o abandonaron la compañia (posiblemente en default). Para comprobar esta suposición se realizará la siguiente gráfica de antigüedad vs default."
   ]
  },
  {
   "cell_type": "markdown",
   "id": "6ae7bad1",
   "metadata": {},
   "source": [
    "##### Gráfica de antigüedad vs default"
   ]
  },
  {
   "cell_type": "code",
   "execution_count": 26,
   "id": "083bcb39",
   "metadata": {},
   "outputs": [
    {
     "data": {
      "image/png": "[encoded data removed]",
      "text/plain": [
       "<Figure size 1152x288 with 1 Axes>"
      ]
     },
     "metadata": {},
     "output_type": "display_data"
    }
   ],
   "source": [
    "# Join entre y vs antigüedad\n",
    "antiguedad_vs_default = y.join(antiguedadClientes)\n",
    "\n",
    "# Gráfica\n",
    "plt.figure(figsize=(16,4))\n",
    "ax = sns.countplot(data=antiguedad_vs_default, x=\"fecha\", hue=\"target\", \n",
    "                   order = antiguedadClientes[\"fecha\"].value_counts().index.sort_values())\n",
    "ax.bar_label(ax.containers[0], size = 12)\n",
    "ax.bar_label(ax.containers[1], size = 12)\n",
    "plt.title('Gráfica de antigüedad vs default')\n",
    "plt.show()"
   ]
  },
  {
   "cell_type": "markdown",
   "id": "fa919cfc",
   "metadata": {},
   "source": [
    "##### Gráfica de antigüedad vs default (porcentaje de deafault)"
   ]
  },
  {
   "cell_type": "markdown",
   "id": "70492f1f",
   "metadata": {},
   "source": [
    "Generar agregado calculando el porcentaje de default por mes"
   ]
  },
  {
   "cell_type": "code",
   "execution_count": 27,
   "id": "63b1dbb5",
   "metadata": {
    "scrolled": true
   },
   "outputs": [],
   "source": [
    "antiguedad_vs_default['valor'] = 1\n",
    "agg_antiguedad_vs_default = pd.DataFrame(antiguedad_vs_default\\\n",
    "                                         .groupby(['fecha', 'target']).sum().reset_index().groupby('fecha')\\\n",
    "                                         .apply(lambda x : sum(x.valor*x.target)/sum(x.valor)), \n",
    "            columns=['% default por antiguedad'])"
   ]
  },
  {
   "cell_type": "markdown",
   "id": "a5555729",
   "metadata": {},
   "source": [
    "Dibujar gráfica"
   ]
  },
  {
   "cell_type": "code",
   "execution_count": 28,
   "id": "c86e12e3",
   "metadata": {},
   "outputs": [
    {
     "data": {
      "image/png": "[encoded data removed]",
      "text/plain": [
       "<Figure size 720x288 with 1 Axes>"
      ]
     },
     "metadata": {},
     "output_type": "display_data"
    }
   ],
   "source": [
    "plt.figure(figsize=(10,4))\n",
    "ax = sns.lineplot(data=agg_antiguedad_vs_default)\n",
    "plt.title('Gráfica de antigüedad vs default')\n",
    "plt.show()"
   ]
  },
  {
   "cell_type": "markdown",
   "id": "a44da3a3",
   "metadata": {},
   "source": [
    "#### Conclusión:\n",
    "Existe un porcentaje más alto de clientes que caen en Default durante los primeros 12 meses. Dado que todos los registros en el dataset contienen fecha de corte a marzo de 2018, se puede asumir que los clientes con menos de 12 meses son clientes nuevos de Amex. Se observa que puede ser una variable nueva muy valiosa para identificar clientes con mayor probabilidad de caer en Default, por lo que se agrega a los datos de entrenamiento."
   ]
  },
  {
   "cell_type": "markdown",
   "id": "a92d00e3",
   "metadata": {},
   "source": [
    "##### Agregar variable calculada de antigüedad a los dataframe X"
   ]
  },
  {
   "cell_type": "code",
   "execution_count": 30,
   "id": "f41dd82e",
   "metadata": {},
   "outputs": [],
   "source": [
    "antiguedadClientes.columns = ['antiguedad']\n",
    "X = X.join(antiguedadClientes)"
   ]
  },
  {
   "cell_type": "markdown",
   "id": "921d450e",
   "metadata": {
    "execution": {
     "iopub.execute_input": "2022-10-09T02:15:05.235221Z",
     "iopub.status.busy": "2022-10-09T02:15:05.234720Z",
     "iopub.status.idle": "2022-10-09T02:15:05.241101Z",
     "shell.execute_reply": "2022-10-09T02:15:05.239619Z",
     "shell.execute_reply.started": "2022-10-09T02:15:05.235183Z"
    },
    "papermill": {
     "duration": 0.011015,
     "end_time": "2022-10-09T04:35:01.763861",
     "exception": false,
     "start_time": "2022-10-09T04:35:01.752846",
     "status": "completed"
    },
    "tags": []
   },
   "source": [
    "### Tratamiento de Valores Vacios"
   ]
  },
  {
   "cell_type": "markdown",
   "id": "58ec8266",
   "metadata": {},
   "source": [
    "El primer paso de preparación de los datos para la contrucción de un modelo, será el tratamiento de valores vacios o nulos, para ello se construirá un modelo sencillo de Regresión Lineal como modelo base y a partir de ahí se harán modificaciones para tratar de obtener mejores resultados del modelo con distintas técnicas de imputación."
   ]
  },
  {
   "cell_type": "markdown",
   "id": "a0f30f2a",
   "metadata": {},
   "source": [
    "Metodo que se utilizara para validar la calidad de las tecnicas de manero de valores vacíos:"
   ]
  },
  {
   "cell_type": "code",
   "execution_count": 31,
   "id": "a9da53c1",
   "metadata": {
    "execution": {
     "iopub.execute_input": "2022-10-09T04:35:01.788737Z",
     "iopub.status.busy": "2022-10-09T04:35:01.788315Z",
     "iopub.status.idle": "2022-10-09T04:35:01.794720Z",
     "shell.execute_reply": "2022-10-09T04:35:01.793478Z"
    },
    "papermill": {
     "duration": 0.021964,
     "end_time": "2022-10-09T04:35:01.797255",
     "exception": false,
     "start_time": "2022-10-09T04:35:01.775291",
     "status": "completed"
    },
    "tags": []
   },
   "outputs": [],
   "source": [
    "def score_dataset(X, y, model=LogisticRegression()): \n",
    "    X_train, X_test, y_train, y_test = train_test_split(X, y, train_size=0.7,  test_size=0.3, random_state=123)\n",
    "    model.fit(X_train, y_train)\n",
    "    preds = model.predict(X_test)\n",
    "    return accuracy_score(y_test, preds)"
   ]
  },
  {
   "cell_type": "markdown",
   "id": "43507fcd",
   "metadata": {
    "papermill": {
     "duration": 0.011001,
     "end_time": "2022-10-09T04:35:01.819718",
     "exception": false,
     "start_time": "2022-10-09T04:35:01.808717",
     "status": "completed"
    },
    "tags": []
   },
   "source": [
    "#### Eliminar columnas con valores vacios: Modelo base"
   ]
  },
  {
   "cell_type": "markdown",
   "id": "86adb558",
   "metadata": {},
   "source": [
    "Técnica a evaluar: eliminar todas las columnas con valores vacios"
   ]
  },
  {
   "cell_type": "code",
   "execution_count": 35,
   "id": "433d16cb",
   "metadata": {
    "execution": {
     "iopub.execute_input": "2022-10-09T04:35:01.844401Z",
     "iopub.status.busy": "2022-10-09T04:35:01.843726Z",
     "iopub.status.idle": "2022-10-09T04:35:02.372434Z",
     "shell.execute_reply": "2022-10-09T04:35:02.370808Z"
    },
    "papermill": {
     "duration": 0.546186,
     "end_time": "2022-10-09T04:35:02.377393",
     "exception": false,
     "start_time": "2022-10-09T04:35:01.831207",
     "status": "completed"
    },
    "tags": []
   },
   "outputs": [
    {
     "name": "stdout",
     "output_type": "stream",
     "text": [
      "Total de columnas:  2188\n",
      "Total de columnas no vacias:  79\n",
      "Accuracy: 0.8825537478210342\n"
     ]
    }
   ],
   "source": [
    "X_dropcolumns = X.dropna(axis=1)\n",
    "\n",
    "print(\"Total de columnas: \",len(X.columns))\n",
    "print(\"Total de columnas no vacias: \", len(X_dropcolumns.columns))\n",
    "accuracy = score_dataset(X_dropcolumns,y)\n",
    "print(\"Accuracy:\", accuracy)\n",
    "\n",
    "columnasNoNulas = X_dropcolumns.columns"
   ]
  },
  {
   "cell_type": "markdown",
   "id": "024f288f",
   "metadata": {},
   "source": [
    "Dataframe de resultados para almacenar resultados:"
   ]
  },
  {
   "cell_type": "code",
   "execution_count": 36,
   "id": "8cde1ed1",
   "metadata": {},
   "outputs": [],
   "source": [
    "rTNull = pd.DataFrame()"
   ]
  },
  {
   "cell_type": "markdown",
   "id": "e7229691",
   "metadata": {
    "execution": {
     "iopub.execute_input": "2022-10-09T02:44:42.718238Z",
     "iopub.status.busy": "2022-10-09T02:44:42.717790Z",
     "iopub.status.idle": "2022-10-09T02:44:42.723611Z",
     "shell.execute_reply": "2022-10-09T02:44:42.722543Z",
     "shell.execute_reply.started": "2022-10-09T02:44:42.718203Z"
    },
    "papermill": {
     "duration": 0.041746,
     "end_time": "2022-10-09T04:35:02.473664",
     "exception": false,
     "start_time": "2022-10-09T04:35:02.431918",
     "status": "completed"
    },
    "tags": []
   },
   "source": [
    "#### Imputar con media"
   ]
  },
  {
   "cell_type": "code",
   "execution_count": 42,
   "id": "90a448d7",
   "metadata": {
    "execution": {
     "iopub.execute_input": "2022-10-09T04:35:02.508927Z",
     "iopub.status.busy": "2022-10-09T04:35:02.508351Z",
     "iopub.status.idle": "2022-10-09T04:35:04.024936Z",
     "shell.execute_reply": "2022-10-09T04:35:04.022985Z"
    },
    "papermill": {
     "duration": 1.537053,
     "end_time": "2022-10-09T04:35:04.029311",
     "exception": false,
     "start_time": "2022-10-09T04:35:02.492258",
     "status": "completed"
    },
    "tags": []
   },
   "outputs": [
    {
     "name": "stdout",
     "output_type": "stream",
     "text": [
      "IMPUTACION CON MEDIA SIN INDICADORES DE IMPUTACION:\n",
      "Accuracy: 0.8943201626961069\n"
     ]
    }
   ],
   "source": [
    "media_imputer_no_ind = SimpleImputer(strategy='mean', add_indicator = False)\n",
    "X_meanimputer_no_ind = pd.DataFrame(media_imputer_no_ind.fit_transform(X), \n",
    "                                    columns=X.columns)\n",
    "X_meanimputer_no_ind = X_meanimputer_no_ind.set_index(X.index) # Setear index de nuevo\n",
    "\n",
    "print(\"IMPUTACION CON MEDIA SIN INDICADORES DE IMPUTACION:\")\n",
    "accuracy = score_dataset(X_meanimputer_no_ind,y)\n",
    "print(\"Accuracy:\", accuracy)\n",
    "\n",
    "# Validar el Accuracy para un modelo para cada columna\n",
    "for column in X_meanimputer_no_ind.columns:\n",
    "    \n",
    "    if column not in columnasNoNulas:\n",
    "        # Construir modelo de 1 variable\n",
    "        accuracy = score_dataset(X_meanimputer_no_ind[[column]],y)\n",
    "        # Guardar resultado\n",
    "        rTNull = rTNull.append({\"Tecnica\": 'Imputar con media', \"Columna\":column, \"Accuracy\": accuracy}, ignore_index=True)"
   ]
  },
  {
   "cell_type": "markdown",
   "id": "c952985f",
   "metadata": {
    "execution": {
     "iopub.execute_input": "2022-10-09T03:05:52.795575Z",
     "iopub.status.busy": "2022-10-09T03:05:52.795081Z"
    },
    "papermill": {
     "duration": 0.034688,
     "end_time": "2022-10-09T04:35:04.122231",
     "exception": false,
     "start_time": "2022-10-09T04:35:04.087543",
     "status": "completed"
    },
    "tags": []
   },
   "source": [
    "#### Imputar con mediana"
   ]
  },
  {
   "cell_type": "code",
   "execution_count": 43,
   "id": "df2aa9dc",
   "metadata": {
    "execution": {
     "iopub.execute_input": "2022-10-09T04:35:04.153939Z",
     "iopub.status.busy": "2022-10-09T04:35:04.153507Z",
     "iopub.status.idle": "2022-10-09T04:35:08.731779Z",
     "shell.execute_reply": "2022-10-09T04:35:08.729556Z"
    },
    "papermill": {
     "duration": 4.596601,
     "end_time": "2022-10-09T04:35:08.737373",
     "exception": false,
     "start_time": "2022-10-09T04:35:04.140772",
     "status": "completed"
    },
    "tags": []
   },
   "outputs": [
    {
     "name": "stdout",
     "output_type": "stream",
     "text": [
      "IMPUTACION CON MEDIANA SIN INDICADORES DE IMPUTACION:\n",
      "Accuracy: 0.893739105171412\n"
     ]
    }
   ],
   "source": [
    "mediana_imputer_no_ind = SimpleImputer(strategy='median', add_indicator = False)\n",
    "X_imp_median_no_ind = pd.DataFrame(mediana_imputer_no_ind.fit_transform(X), \n",
    "                                   columns=X.columns)\n",
    "X_imp_median_no_ind = X_imp_median_no_ind.set_index(X.index) # Setear index de nuevo\n",
    "\n",
    "print(\"IMPUTACION CON MEDIANA SIN INDICADORES DE IMPUTACION:\")\n",
    "accuracy = score_dataset(X_imp_median_no_ind,y)\n",
    "print(\"Accuracy:\", accuracy)\n",
    "\n",
    "# Validar el Accuracy para un modelo para cada columna\n",
    "for column in X_imp_median_no_ind.columns:\n",
    "    \n",
    "    if column not in columnasNoNulas:\n",
    "        # Construir modelo de 1 variable\n",
    "        accuracy = score_dataset(X_imp_median_no_ind[[column]],y)\n",
    "        # Guardar resultado\n",
    "        rTNull = rTNull.append({\"Tecnica\": 'Imputar con mediana', \"Columna\":column, \"Accuracy\": accuracy}, ignore_index=True)"
   ]
  },
  {
   "cell_type": "markdown",
   "id": "ac4cd61a",
   "metadata": {},
   "source": [
    "#### Imputar con valor = 0"
   ]
  },
  {
   "cell_type": "code",
   "execution_count": 44,
   "id": "a6452f6f",
   "metadata": {},
   "outputs": [
    {
     "name": "stdout",
     "output_type": "stream",
     "text": [
      "IMPUTACION CON VALOR=0 SIN INDICADORES DE IMPUTACION:\n",
      "Accuracy: 0.8940296339337594\n"
     ]
    }
   ],
   "source": [
    "valor_imputer = SimpleImputer(strategy='constant', fill_value = 0, add_indicator = False)\n",
    "X_imp_valor = pd.DataFrame(valor_imputer.fit_transform(X), \n",
    "                                   columns=X.columns)\n",
    "X_imp_valor = X_imp_valor.set_index(X.index) # Setear index de nuevo\n",
    "\n",
    "print(\"IMPUTACION CON VALOR=0 SIN INDICADORES DE IMPUTACION:\")\n",
    "accuracy = score_dataset(X_imp_valor,y)\n",
    "print(\"Accuracy:\", accuracy)\n",
    "\n",
    "# Validar el Accuracy para un modelo para cada columna\n",
    "for column in X_imp_valor.columns:\n",
    "    \n",
    "    if column not in columnasNoNulas:\n",
    "        # Construir modelo de 1 variable\n",
    "        accuracy = score_dataset(X_imp_valor[[column]],y)\n",
    "        # Guardar resultado\n",
    "        rTNull = rTNull.append({\"Tecnica\": 'Imputar con valor = 0', \"Columna\":column, \"Accuracy\": accuracy}, ignore_index=True)"
   ]
  },
  {
   "cell_type": "markdown",
   "id": "b3154fcc",
   "metadata": {
    "execution": {
     "iopub.execute_input": "2022-10-09T03:15:23.310367Z",
     "iopub.status.busy": "2022-10-09T03:15:23.309859Z",
     "iopub.status.idle": "2022-10-09T03:15:23.316717Z"
    },
    "papermill": {
     "duration": 0.03084,
     "end_time": "2022-10-09T04:35:08.822083",
     "exception": false,
     "start_time": "2022-10-09T04:35:08.791243",
     "status": "completed"
    },
    "tags": []
   },
   "source": [
    "##### Selección de mejor técnica para imputar\n",
    "Rankear las técicas aplicadas de acuerdo a la que mejor Accuracy tuvo:"
   ]
  },
  {
   "cell_type": "code",
   "execution_count": 45,
   "id": "d7a049ed",
   "metadata": {},
   "outputs": [],
   "source": [
    "rTNull = rTNull.sort_values(by=['Columna','Accuracy'])\n",
    "rTNull['rankeo'] = rTNull.groupby(['Columna']).Acurracy.rank(method='first', ascending=False)"
   ]
  },
  {
   "cell_type": "markdown",
   "id": "9693b238",
   "metadata": {},
   "source": [
    "Seleccionar la técnica con mayor Accuracy"
   ]
  },
  {
   "cell_type": "code",
   "execution_count": 46,
   "id": "e29950af",
   "metadata": {},
   "outputs": [
    {
     "data": {
      "text/html": [
       "<div>\n",
       "<style scoped>\n",
       "    .dataframe tbody tr th:only-of-type {\n",
       "        vertical-align: middle;\n",
       "    }\n",
       "\n",
       "    .dataframe tbody tr th {\n",
       "        vertical-align: top;\n",
       "    }\n",
       "\n",
       "    .dataframe thead th {\n",
       "        text-align: right;\n",
       "    }\n",
       "</style>\n",
       "<table border=\"1\" class=\"dataframe\">\n",
       "  <thead>\n",
       "    <tr style=\"text-align: right;\">\n",
       "      <th></th>\n",
       "      <th>Tecnica</th>\n",
       "      <th>Columna</th>\n",
       "      <th>Acurracy</th>\n",
       "      <th>Accuracy</th>\n",
       "      <th>rankeo</th>\n",
       "    </tr>\n",
       "  </thead>\n",
       "  <tbody>\n",
       "    <tr>\n",
       "      <th>1471</th>\n",
       "      <td>Imputar con media</td>\n",
       "      <td>B_10_10</td>\n",
       "      <td>0.736781</td>\n",
       "      <td>NaN</td>\n",
       "      <td>1.0</td>\n",
       "    </tr>\n",
       "    <tr>\n",
       "      <th>1638</th>\n",
       "      <td>Imputar con media</td>\n",
       "      <td>B_10_11</td>\n",
       "      <td>0.736781</td>\n",
       "      <td>NaN</td>\n",
       "      <td>1.0</td>\n",
       "    </tr>\n",
       "    <tr>\n",
       "      <th>1805</th>\n",
       "      <td>Imputar con media</td>\n",
       "      <td>B_10_12</td>\n",
       "      <td>0.736781</td>\n",
       "      <td>NaN</td>\n",
       "      <td>1.0</td>\n",
       "    </tr>\n",
       "    <tr>\n",
       "      <th>1971</th>\n",
       "      <td>Imputar con media</td>\n",
       "      <td>B_10_13</td>\n",
       "      <td>0.736781</td>\n",
       "      <td>NaN</td>\n",
       "      <td>1.0</td>\n",
       "    </tr>\n",
       "    <tr>\n",
       "      <th>2230</th>\n",
       "      <td>Imputar con mediana</td>\n",
       "      <td>B_10_2</td>\n",
       "      <td>0.744698</td>\n",
       "      <td>NaN</td>\n",
       "      <td>1.0</td>\n",
       "    </tr>\n",
       "    <tr>\n",
       "      <th>...</th>\n",
       "      <td>...</td>\n",
       "      <td>...</td>\n",
       "      <td>...</td>\n",
       "      <td>...</td>\n",
       "      <td>...</td>\n",
       "    </tr>\n",
       "    <tr>\n",
       "      <th>647</th>\n",
       "      <td>Imputar con media</td>\n",
       "      <td>S_9_5</td>\n",
       "      <td>0.736854</td>\n",
       "      <td>NaN</td>\n",
       "      <td>1.0</td>\n",
       "    </tr>\n",
       "    <tr>\n",
       "      <th>2924</th>\n",
       "      <td>Imputar con mediana</td>\n",
       "      <td>S_9_6</td>\n",
       "      <td>0.736781</td>\n",
       "      <td>NaN</td>\n",
       "      <td>1.0</td>\n",
       "    </tr>\n",
       "    <tr>\n",
       "      <th>3092</th>\n",
       "      <td>Imputar con mediana</td>\n",
       "      <td>S_9_7</td>\n",
       "      <td>0.736854</td>\n",
       "      <td>NaN</td>\n",
       "      <td>1.0</td>\n",
       "    </tr>\n",
       "    <tr>\n",
       "      <th>3260</th>\n",
       "      <td>Imputar con mediana</td>\n",
       "      <td>S_9_8</td>\n",
       "      <td>0.736781</td>\n",
       "      <td>NaN</td>\n",
       "      <td>1.0</td>\n",
       "    </tr>\n",
       "    <tr>\n",
       "      <th>3428</th>\n",
       "      <td>Imputar con mediana</td>\n",
       "      <td>S_9_9</td>\n",
       "      <td>0.736781</td>\n",
       "      <td>NaN</td>\n",
       "      <td>1.0</td>\n",
       "    </tr>\n",
       "  </tbody>\n",
       "</table>\n",
       "<p>2109 rows × 5 columns</p>\n",
       "</div>"
      ],
      "text/plain": [
       "                  Tecnica  Columna  Acurracy  Accuracy  rankeo\n",
       "1471    Imputar con media  B_10_10  0.736781       NaN     1.0\n",
       "1638    Imputar con media  B_10_11  0.736781       NaN     1.0\n",
       "1805    Imputar con media  B_10_12  0.736781       NaN     1.0\n",
       "1971    Imputar con media  B_10_13  0.736781       NaN     1.0\n",
       "2230  Imputar con mediana   B_10_2  0.744698       NaN     1.0\n",
       "...                   ...      ...       ...       ...     ...\n",
       "647     Imputar con media    S_9_5  0.736854       NaN     1.0\n",
       "2924  Imputar con mediana    S_9_6  0.736781       NaN     1.0\n",
       "3092  Imputar con mediana    S_9_7  0.736854       NaN     1.0\n",
       "3260  Imputar con mediana    S_9_8  0.736781       NaN     1.0\n",
       "3428  Imputar con mediana    S_9_9  0.736781       NaN     1.0\n",
       "\n",
       "[2109 rows x 5 columns]"
      ]
     },
     "execution_count": 46,
     "metadata": {},
     "output_type": "execute_result"
    }
   ],
   "source": [
    "rTNull = rTNull[rTNull.rankeo == 1]\n",
    "rTNull"
   ]
  },
  {
   "cell_type": "markdown",
   "id": "caf8e6e9",
   "metadata": {},
   "source": [
    "#### Aplicar imputación a cada columna dependiendo de la selección de técnica del paso anterior"
   ]
  },
  {
   "cell_type": "code",
   "execution_count": null,
   "id": "1460f1f4",
   "metadata": {},
   "outputs": [],
   "source": [
    "X_imp = X.copy()\n",
    "\n",
    "# Para cada columna\n",
    "for i, row in rTNull.iterrows():\n",
    "    if row.Tecnica == \"Imputar con media\":\n",
    "        X_imp[row.Columna] = X_meanimputer_no_ind[row.Columna]\n",
    "    elif row.Tecnica == \"Imputar con mediana\":\n",
    "        X_imp[row.Columna] = X_imp_median_no_ind[row.Columna]\n",
    "    elif row.Tecnica == \"Imputar con valor = 0\":\n",
    "        X_imp[row.Columna] = X_imp_valor[row.Columna]"
   ]
  },
  {
   "cell_type": "code",
   "execution_count": null,
   "id": "455652ae",
   "metadata": {},
   "outputs": [],
   "source": [
    "accuracy = score_dataset(X_imp,y)\n",
    "print(\"Acurracy:\", accuracy)"
   ]
  },
  {
   "cell_type": "markdown",
   "id": "1a9a86a9",
   "metadata": {
    "execution": {
     "iopub.execute_input": "2022-10-09T02:00:18.299133Z",
     "iopub.status.busy": "2022-10-09T02:00:18.298694Z",
     "iopub.status.idle": "2022-10-09T02:00:18.306192Z",
     "shell.execute_reply": "2022-10-09T02:00:18.304599Z",
     "shell.execute_reply.started": "2022-10-09T02:00:18.299098Z"
    },
    "papermill": {
     "duration": 0.012006,
     "end_time": "2022-10-09T04:35:08.936515",
     "exception": false,
     "start_time": "2022-10-09T04:35:08.924509",
     "status": "completed"
    },
    "tags": []
   },
   "source": [
    "## Mutual Information"
   ]
  },
  {
   "cell_type": "markdown",
   "id": "80825ccc",
   "metadata": {},
   "source": [
    "El cálculo de mutual information ayuda a identificar las variables con mayor potencial para la construcción del modelo de predicción. El valor de Mutual Information sirve para medir la relación entre 2 cantidades o valores; en este caso se utilizará para medir la relación entre cada una de las variables y la variable objetivo. La ventaja de este método con respecto a medir la correlación es que la correlación solo identifica relaciones lineales mientras que esta técnica identifica todo tipo de relación."
   ]
  },
  {
   "cell_type": "code",
   "execution_count": null,
   "id": "01432253",
   "metadata": {
    "execution": {
     "iopub.execute_input": "2022-10-09T04:35:08.962923Z",
     "iopub.status.busy": "2022-10-09T04:35:08.962531Z",
     "iopub.status.idle": "2022-10-09T04:35:08.988430Z",
     "shell.execute_reply": "2022-10-09T04:35:08.987415Z"
    },
    "papermill": {
     "duration": 0.042229,
     "end_time": "2022-10-09T04:35:08.991035",
     "exception": false,
     "start_time": "2022-10-09T04:35:08.948806",
     "status": "completed"
    },
    "tags": []
   },
   "outputs": [],
   "source": [
    "def make_mi_scores(X, y):\n",
    "    X = X.copy()\n",
    "    mi_scores = mutual_info_classif(X, y, random_state=0)\n",
    "    mi_scores = pd.Series(mi_scores, name=\"MI Scores\", index=X.columns)\n",
    "    mi_scores = mi_scores.sort_values(ascending=False)\n",
    "    return mi_scores\n",
    "\n",
    "\n",
    "def plot_mi_scores(scores):\n",
    "    scores = scores.sort_values(ascending=True)\n",
    "    width = np.arange(len(scores))\n",
    "    ticks = list(scores.index)\n",
    "    plt.barh(width, scores)\n",
    "    plt.yticks(width, ticks)\n",
    "    plt.title(\"Mutual Information Scores\")"
   ]
  },
  {
   "cell_type": "markdown",
   "id": "3180d628",
   "metadata": {},
   "source": [
    "Cálculo de mutual information:"
   ]
  },
  {
   "cell_type": "code",
   "execution_count": null,
   "id": "219e660f",
   "metadata": {
    "execution": {
     "iopub.execute_input": "2022-10-09T04:35:09.017171Z",
     "iopub.status.busy": "2022-10-09T04:35:09.016741Z",
     "iopub.status.idle": "2022-10-09T04:38:10.786432Z",
     "shell.execute_reply": "2022-10-09T04:38:10.784973Z"
    },
    "papermill": {
     "duration": 181.802365,
     "end_time": "2022-10-09T04:38:10.805679",
     "exception": false,
     "start_time": "2022-10-09T04:35:09.003314",
     "status": "completed"
    },
    "scrolled": true,
    "tags": []
   },
   "outputs": [],
   "source": [
    "mi_scores = make_mi_scores(X_imp, y.target)\n",
    "\n",
    "# Graficar resultado\n",
    "plt.figure(dpi=100, figsize=(15, 35))\n",
    "plot_mi_scores(mi_scores)"
   ]
  },
  {
   "cell_type": "markdown",
   "id": "87779c4d",
   "metadata": {},
   "source": [
    "##### Gráfica de modelo sencillo de LinearRegression para el top N variables\n",
    "A continuación se gráfica el Acurracy del top N de variables para un modelo de regresión lineal. Llama la atención que el mejor modelo posible se obtiene al construir el modelo con el menor número posible de variables. "
   ]
  },
  {
   "cell_type": "code",
   "execution_count": null,
   "id": "9246c7fd",
   "metadata": {
    "scrolled": true
   },
   "outputs": [],
   "source": [
    "model = LinearRegression()\n",
    "resultado_MI = pd.DataFrame()\n",
    "\n",
    "for i in range(len(mi_scores)):\n",
    "    X_MI = X_imp[list(mi_scores.head(i+1).index)]\n",
    "    acurracy = score_dataset(X_MI, y, model=model)\n",
    "    resultado_MI = resultado_MI.append({\"i\": i, \"acurracy\": acurracy}, ignore_index=True)\n",
    "    \n",
    "# Dibujar gráfica\n",
    "plt.figure(figsize=(12,4))\n",
    "ax = sns.lineplot(data=resultado_MI, x=\"i\", y=\"acurracy\")\n",
    "plt.title('Resultado Mutual Information: Acurracy para Top N variables')\n",
    "plt.show()"
   ]
  },
  {
   "cell_type": "markdown",
   "id": "97efc6df",
   "metadata": {
    "papermill": {
     "duration": 0.014162,
     "end_time": "2022-10-09T04:39:38.247887",
     "exception": false,
     "start_time": "2022-10-09T04:39:38.233725",
     "status": "completed"
    },
    "tags": []
   },
   "source": [
    "Lo que parece indicarnos la gráfica es que mientras más sencillo y tomando el menor número de variables el modelo se comportaría mejor.\n",
    "\n",
    "Adicionalmente, el dataset tiene 5 tipos de variables:\n",
    "\n",
    "D_* = Delinquency variables\n",
    "\n",
    "S_* = Spend variables\n",
    "\n",
    "P_* = Payment variables\n",
    "\n",
    "B_* = Balance variables\n",
    "\n",
    "R_* = Risk variables\n",
    "\n",
    "La complejidad adicional de este análisis es que todas las variables son anónimas y nada más podemos saber de manera general el tipo de la variable.\n",
    "\n",
    "Sin embargo, llama la atención que de las 20 variables con mayor mutual information, 10 son de la **categoría D_* = Delinquency variables y B_* = Balance variables**. Esto nos indica que será necesario poner más atención a estas variables ya que son las que parecen ser más prometedoras.\n",
    "\n",
    "* Otro de los descubrimientos importantes es que existen variables con MI = 0. Esto nos dice que no tienen ninguna relación con el target; por lo que se quitarán del dataset con el objetivo de reducir el tamaño del mismo.\n",
    "\n",
    "* Por último, se identificó que la columna de antigüedad tiene un valor de MI bajo, aún y cuando anteriormente se había observado visualmente que tenía potencial para la identificación de eventos de Default."
   ]
  },
  {
   "cell_type": "markdown",
   "id": "2b7fb1e4",
   "metadata": {},
   "source": [
    "##### Quitar columnas con MI < 0.003"
   ]
  },
  {
   "cell_type": "code",
   "execution_count": null,
   "id": "85cfb736",
   "metadata": {},
   "outputs": [],
   "source": [
    "scoresMI = pd.DataFrame(mi_scores).reset_index()\n",
    "X_MI = X_imp.drop( columns = list(scoresMI[scoresMI[\"MI Scores\"] < 0.003][\"index\"]) )"
   ]
  },
  {
   "cell_type": "markdown",
   "id": "ab7d5ee0",
   "metadata": {
    "execution": {
     "iopub.execute_input": "2022-10-09T03:55:21.692740Z",
     "iopub.status.busy": "2022-10-09T03:55:21.692263Z",
     "iopub.status.idle": "2022-10-09T03:55:21.697636Z",
     "shell.execute_reply": "2022-10-09T03:55:21.696692Z",
     "shell.execute_reply.started": "2022-10-09T03:55:21.692704Z"
    },
    "papermill": {
     "duration": 0.014146,
     "end_time": "2022-10-09T04:39:38.277009",
     "exception": false,
     "start_time": "2022-10-09T04:39:38.262863",
     "status": "completed"
    },
    "tags": []
   },
   "source": [
    "# PCA"
   ]
  },
  {
   "cell_type": "markdown",
   "id": "0574a806",
   "metadata": {
    "papermill": {
     "duration": 0.014214,
     "end_time": "2022-10-09T04:39:38.305833",
     "exception": false,
     "start_time": "2022-10-09T04:39:38.291619",
     "status": "completed"
    },
    "tags": []
   },
   "source": [
    "Dada la cantidad tan grande de features con las que cuenta este dataset, se evaluará a continuación la posibilidad de reducir la dimensionalidad y simultáneamente construir nuevas features mediante la utilización de la técnica de PCA:"
   ]
  },
  {
   "cell_type": "markdown",
   "id": "af852435",
   "metadata": {},
   "source": [
    "Para obtener mejores resultados en PCA es necesario estandarizar"
   ]
  },
  {
   "cell_type": "code",
   "execution_count": null,
   "id": "4989ace3",
   "metadata": {
    "execution": {
     "iopub.execute_input": "2022-10-09T04:39:38.337073Z",
     "iopub.status.busy": "2022-10-09T04:39:38.336666Z",
     "iopub.status.idle": "2022-10-09T04:39:38.620266Z",
     "shell.execute_reply": "2022-10-09T04:39:38.618915Z"
    },
    "papermill": {
     "duration": 0.302667,
     "end_time": "2022-10-09T04:39:38.623207",
     "exception": false,
     "start_time": "2022-10-09T04:39:38.320540",
     "status": "completed"
    },
    "tags": []
   },
   "outputs": [],
   "source": [
    "scaler = StandardScaler()\n",
    "X_std = pd.DataFrame(scaler.fit_transform(X_MI), columns=X_MI.columns)"
   ]
  },
  {
   "cell_type": "markdown",
   "id": "ad122076",
   "metadata": {},
   "source": [
    "Aplicar PCA"
   ]
  },
  {
   "cell_type": "code",
   "execution_count": null,
   "id": "96b253da",
   "metadata": {
    "execution": {
     "iopub.execute_input": "2022-10-09T04:39:38.655404Z",
     "iopub.status.busy": "2022-10-09T04:39:38.654989Z",
     "iopub.status.idle": "2022-10-09T04:39:41.268960Z",
     "shell.execute_reply": "2022-10-09T04:39:41.267915Z"
    },
    "papermill": {
     "duration": 2.63291,
     "end_time": "2022-10-09T04:39:41.271698",
     "exception": false,
     "start_time": "2022-10-09T04:39:38.638788",
     "status": "completed"
    },
    "tags": []
   },
   "outputs": [],
   "source": [
    "pca = PCA()\n",
    "X_pca = pca.fit_transform(X_std)\n",
    "component_names = [f\"PC{i+1}\" for i in range(X_pca.shape[1])]\n",
    "X_pca = pd.DataFrame(X_pca, columns=component_names)"
   ]
  },
  {
   "cell_type": "markdown",
   "id": "9a4a73be",
   "metadata": {},
   "source": [
    "Graficar la varianza acumulado"
   ]
  },
  {
   "cell_type": "code",
   "execution_count": null,
   "id": "da1d11ab",
   "metadata": {
    "execution": {
     "iopub.execute_input": "2022-10-09T04:39:41.303579Z",
     "iopub.status.busy": "2022-10-09T04:39:41.303150Z",
     "iopub.status.idle": "2022-10-09T04:39:42.203598Z",
     "shell.execute_reply": "2022-10-09T04:39:42.202216Z"
    },
    "papermill": {
     "duration": 0.92028,
     "end_time": "2022-10-09T04:39:42.206722",
     "exception": false,
     "start_time": "2022-10-09T04:39:41.286442",
     "status": "completed"
    },
    "tags": []
   },
   "outputs": [],
   "source": [
    "def plot_variance(pca, width=8, dpi=100):\n",
    "    # Create figure\n",
    "    fig, axs = plt.subplots(1, 2)\n",
    "    n = pca.n_components_\n",
    "    grid = np.arange(1, n + 1)\n",
    "    # Explained variance\n",
    "    evr = pca.explained_variance_ratio_\n",
    "    axs[0].bar(grid, evr)\n",
    "    axs[0].set(\n",
    "        xlabel=\"Component\", title=\"% Explained Variance\", ylim=(0.0, 1.0)\n",
    "    )\n",
    "    # Cumulative Variance\n",
    "    cv = np.cumsum(evr)\n",
    "    axs[1].plot(np.r_[0, grid], np.r_[0, cv], \"o-\")\n",
    "    axs[1].set(\n",
    "        xlabel=\"Component\", title=\"% Cumulative Variance\", ylim=(0.0, 1.0)\n",
    "    )\n",
    "    # Set up figure\n",
    "    fig.set(figwidth=15, dpi=100)\n",
    "    return axs\n",
    "\n",
    "# Graficar la varianza acumulado\n",
    "plot_variance(pca)\n",
    "plt.show()"
   ]
  },
  {
   "cell_type": "code",
   "execution_count": null,
   "id": "d443d244",
   "metadata": {},
   "outputs": [],
   "source": [
    "model = LinearRegression()\n",
    "resultado_PCA = pd.DataFrame()\n",
    "\n",
    "for i in range(1000):\n",
    "    acurracy = score_dataset(X_pca.iloc[:,:i+1], y, model=model)\n",
    "    resultado_PCA = resultado_PCA.append({\"i\": i, \"acurracy\": acurracy}, ignore_index=True)\n",
    "    \n",
    "# Dibujar gráfica\n",
    "plt.figure(figsize=(12,4))\n",
    "ax = sns.lineplot(data=resultado_PCA, x=\"i\", y=\"acurracy\")\n",
    "plt.title('Resultado PCA: Acurracy para Top N variables')\n",
    "plt.show()"
   ]
  },
  {
   "cell_type": "code",
   "execution_count": null,
   "id": "eec69211",
   "metadata": {},
   "outputs": [],
   "source": []
  },
  {
   "cell_type": "code",
   "execution_count": null,
   "id": "6781d3bc",
   "metadata": {},
   "outputs": [],
   "source": []
  },
  {
   "cell_type": "code",
   "execution_count": null,
   "id": "ddfbc1e8",
   "metadata": {},
   "outputs": [],
   "source": [
    "score_dataset(X_imp_valor, y.target, model = LinearRegression())"
   ]
  },
  {
   "cell_type": "code",
   "execution_count": null,
   "id": "34e1af6d",
   "metadata": {},
   "outputs": [],
   "source": [
    "\n",
    "clf = tree.DecisionTreeClassifier()\n",
    "score_dataset(X_imp_valor, y.target, model = clf)"
   ]
  },
  {
   "cell_type": "code",
   "execution_count": null,
   "id": "998f8fa3",
   "metadata": {},
   "outputs": [],
   "source": [
    "gnb = GaussianNB()\n",
    "score_dataset(X_imp_valor, y.target, model = gnb)"
   ]
  }
 ],
 "metadata": {
  "kernelspec": {
   "display_name": "Python 3 (ipykernel)",
   "language": "python",
   "name": "python3"
  },
  "language_info": {
   "codemirror_mode": {
    "name": "ipython",
    "version": 3
   },
   "file_extension": ".py",
   "mimetype": "text/x-python",
   "name": "python",
   "nbconvert_exporter": "python",
   "pygments_lexer": "ipython3",
   "version": "3.8.8"
  },
  "papermill": {
   "default_parameters": {},
   "duration": 524.083456,
   "end_time": "2022-10-09T04:43:24.770040",
   "environment_variables": {},
   "exception": null,
   "input_path": "__notebook__.ipynb",
   "output_path": "__notebook__.ipynb",
   "parameters": {},
   "start_time": "2022-10-09T04:34:40.686584",
   "version": "2.3.4"
  }
 },
 "nbformat": 4,
 "nbformat_minor": 5
}
